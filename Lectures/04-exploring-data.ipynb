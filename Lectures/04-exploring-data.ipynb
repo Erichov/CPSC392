{
 "cells": [
  {
   "cell_type": "markdown",
   "metadata": {},
   "source": [
    "## Exploratory Data Analysis (EDA)\n",
    "* the critical process of performing initial investigations on data\n",
    "    * to discover patterns\n",
    "    * to spot anomalies\n",
    "    * to extract important attributes\n",
    "    * to maximize insight into a data set\n"
   ]
  },
  {
   "cell_type": "code",
   "execution_count": null,
   "metadata": {},
   "outputs": [],
   "source": [
    "import matplotlib.pyplot as plt # Python's plotting library\n",
    "import pandas as pd # data frame library\n",
    "import numpy as np # scientific computing library\n",
    "from statistics import *\n",
    "\n",
    "iris = pd.read_csv(\"D:\\\\CPSC392\\\\datasets\\\\iris.csv\")\n",
    "wine = pd.read_csv(\"D:\\\\CPSC392\\\\datasets\\\\wine.csv\")"
   ]
  },
  {
   "cell_type": "markdown",
   "metadata": {},
   "source": [
    "##### Break into groups of 2 and discuss the two datasets. I will be asking questions about:\n",
    "* What the two datasets represent\n",
    "* What can I predict using the data\n",
    "* What are the different data types of attributes\n",
    "* Are there any missing values\n",
    "* What are the summary statistics of some attributes like sepal length and width for iris data and ash and phenols for the wine data\n",
    "* What are the categorical attributes in both datasets\n",
    "* Should there be a better way to analyze data"
   ]
  },
  {
   "cell_type": "code",
   "execution_count": null,
   "metadata": {},
   "outputs": [],
   "source": [
    "iris.info()\n",
    "iris.describe()"
   ]
  },
  {
   "cell_type": "code",
   "execution_count": null,
   "metadata": {},
   "outputs": [],
   "source": [
    "wine.info()\n",
    "wine.desribe()"
   ]
  },
  {
   "cell_type": "code",
   "execution_count": null,
   "metadata": {},
   "outputs": [],
   "source": [
    "iris['sepal_length'].mean()"
   ]
  },
  {
   "cell_type": "code",
   "execution_count": null,
   "metadata": {},
   "outputs": [],
   "source": [
    "iris['sepal_width'].mean()"
   ]
  },
  {
   "cell_type": "code",
   "execution_count": null,
   "metadata": {},
   "outputs": [],
   "source": [
    "# remember that this is still Python!\n",
    "def summaryStatistics(x):\n",
    "    print(x.mean())\n",
    "    print(x.min())\n",
    "    print(x.max())\n",
    "    print(variance(x))\n",
    "    print(stdev(x))\n",
    "\n",
    "summaryStatistics(iris['sepal_length'])"
   ]
  },
  {
   "cell_type": "markdown",
   "metadata": {},
   "source": [
    "#### Let's add some visual aspects to our exploratory data analysis"
   ]
  },
  {
   "cell_type": "code",
   "execution_count": null,
   "metadata": {},
   "outputs": [],
   "source": []
  }
 ],
 "metadata": {
  "kernelspec": {
   "display_name": "Python 3",
   "language": "python",
   "name": "python3"
  },
  "language_info": {
   "codemirror_mode": {
    "name": "ipython",
    "version": 3
   },
   "file_extension": ".py",
   "mimetype": "text/x-python",
   "name": "python",
   "nbconvert_exporter": "python",
   "pygments_lexer": "ipython3",
   "version": "3.6.8"
  }
 },
 "nbformat": 4,
 "nbformat_minor": 2
}
