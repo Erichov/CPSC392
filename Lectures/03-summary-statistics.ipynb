{
 "cells": [
  {
   "cell_type": "code",
   "execution_count": null,
   "metadata": {
    "scrolled": true
   },
   "outputs": [],
   "source": [
    "import pandas as pd # data frame library\n",
    "import numpy as np # scientific computing library\n",
    "\n",
    "# we reuse our Titanic passengers data\n",
    "data = pd.read_csv(\"D:\\\\CPSC392\\\\datasets\\\\02-titanic.csv\")\n",
    "data.head(10)"
   ]
  },
  {
   "cell_type": "markdown",
   "metadata": {},
   "source": [
    "##### We have so far talked about the data types of the attributes in the data but that is just how data is stored, there is another classification system for statistical data:\n",
    "* Categorical\n",
    "* Numerical\n",
    "    * Discrete\n",
    "    * Continuous\n",
    "\n",
    "##### Q. What attributes are categorical in the Titanic data? Which ones are numerical?\n",
    "##### Q. When would I use one over the other?\n",
    "##### Q. Can I convert a numerical attribute to a categorical one? What about the other way around?"
   ]
  },
  {
   "cell_type": "markdown",
   "metadata": {},
   "source": [
    "## Summary Statistics\n",
    "* information that gives a quick and simple description of the data.\n",
    "* used to summarize a set of observations"
   ]
  },
  {
   "cell_type": "markdown",
   "metadata": {},
   "source": [
    "###### Basic summary statistics include\n",
    "* min\n",
    "* max\n",
    "* mean\n",
    "* median\n",
    "* standard deviation\n",
    "* variance\n",
    "* number of missing values (not quite a summary statistic but equally important)"
   ]
  },
  {
   "cell_type": "code",
   "execution_count": null,
   "metadata": {},
   "outputs": [],
   "source": [
    "data.describe() # built-in summary statistics function"
   ]
  },
  {
   "cell_type": "markdown",
   "metadata": {},
   "source": [
    "##### Q. Why does the describe function not provide the summary statistics for name and sex?"
   ]
  },
  {
   "cell_type": "code",
   "execution_count": null,
   "metadata": {},
   "outputs": [],
   "source": [
    "data.info()"
   ]
  },
  {
   "cell_type": "code",
   "execution_count": null,
   "metadata": {},
   "outputs": [],
   "source": [
    "data['isFemale'] = data['sex'].map({'female': 1, 'male': 0})"
   ]
  },
  {
   "cell_type": "code",
   "execution_count": null,
   "metadata": {},
   "outputs": [],
   "source": [
    "def converter(x):\n",
    "    if x == 'female':\n",
    "        return 1\n",
    "    elif x == 'male':\n",
    "        return 0\n",
    "\n",
    "\n",
    "data['isFemale'] = data['sex'].apply(converter)\n"
   ]
  },
  {
   "cell_type": "markdown",
   "metadata": {},
   "source": [
    "##### Q. Would it still be appropriate to try and find the min, max, mean etc. for isFemale attribute? Think back to categorical vs numerical attributes"
   ]
  },
  {
   "cell_type": "code",
   "execution_count": null,
   "metadata": {},
   "outputs": [],
   "source": []
  }
 ],
 "metadata": {
  "kernelspec": {
   "display_name": "Python 3",
   "language": "python",
   "name": "python3"
  },
  "language_info": {
   "codemirror_mode": {
    "name": "ipython",
    "version": 3
   },
   "file_extension": ".py",
   "mimetype": "text/x-python",
   "name": "python",
   "nbconvert_exporter": "python",
   "pygments_lexer": "ipython3",
   "version": "3.6.8"
  }
 },
 "nbformat": 4,
 "nbformat_minor": 2
}
